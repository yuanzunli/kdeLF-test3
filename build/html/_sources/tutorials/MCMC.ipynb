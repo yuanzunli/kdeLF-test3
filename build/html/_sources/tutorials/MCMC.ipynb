{
 "cells": [
  {
   "cell_type": "markdown",
   "metadata": {},
   "source": [
    "(MCMC)=\n",
    "\n",
    "# MCMC\n",
    "\n",
    "One important feature of our KDE method is involving the Bayesian inference. \\texttt{run\\_mcmc} implements a fully Bayesian Markov Chain Monte Carlo (MCMC) method to determine the posterior distributions of bandwidths and other parameters (e.g., $\\beta$ for adaptive estimators). The MCMC core embedded in kdeLF is the Python package emcee (Foreman-Mackey et al.2013). The Bayesian method allows us to recover the parameters with a complete description of their uncertainties and degeneracies via calculating their probability density functions (PDFs). Then, by running the chain analysis subroutine, one can probe the shape of these PDFs, and the correlations among bandwidth parameters, giving more information than just the best-fit and the marginalized values for the parameters."
   ]
  },
  {
   "cell_type": "code",
   "execution_count": 1,
   "metadata": {
    "tags": [
     "hide-cell"
    ]
   },
   "outputs": [],
   "source": [
    "%config InlineBackend.figure_format = \"retina\"\n",
    "\n",
    "from matplotlib import rcParams\n",
    "\n",
    "rcParams[\"savefig.dpi\"] = 100\n",
    "rcParams[\"figure.dpi\"] = 100\n",
    "rcParams[\"font.size\"] = 20"
   ]
  },
  {
   "cell_type": "markdown",
   "metadata": {},
   "source": [
    "coming soon ..."
   ]
  },
  {
   "cell_type": "code",
   "execution_count": null,
   "metadata": {},
   "outputs": [],
   "source": []
  }
 ],
 "metadata": {
  "kernelspec": {
   "display_name": "Python 3",
   "language": "python",
   "name": "python3"
  },
  "language_info": {
   "codemirror_mode": {
    "name": "ipython",
    "version": 3
   },
   "file_extension": ".py",
   "mimetype": "text/x-python",
   "name": "python",
   "nbconvert_exporter": "python",
   "pygments_lexer": "ipython3",
   "version": "3.8.10"
  }
 },
 "nbformat": 4,
 "nbformat_minor": 4
}
